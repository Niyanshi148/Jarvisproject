{
  "nbformat": 4,
  "nbformat_minor": 0,
  "metadata": {
    "colab": {
      "name": "Jarvis.ipynb",
      "provenance": [],
      "collapsed_sections": [],
      "mount_file_id": "https://github.com/Niyanshi148/Projects/blob/main/Jarvis.ipynb",
      "authorship_tag": "ABX9TyP7h1iqHMBqVaFqTuunheaB",
      "include_colab_link": true
    },
    "kernelspec": {
      "name": "python3",
      "display_name": "Python 3"
    },
    "language_info": {
      "name": "python"
    }
  },
  "cells": [
    {
      "cell_type": "markdown",
      "metadata": {
        "id": "view-in-github",
        "colab_type": "text"
      },
      "source": [
        "<a href=\"https://colab.research.google.com/github/Niyanshi148/Projects/blob/main/Jarvis/Jarvis.ipynb\" target=\"_parent\"><img src=\"https://colab.research.google.com/assets/colab-badge.svg\" alt=\"Open In Colab\"/></a>"
      ]
    },
    {
      "cell_type": "markdown",
      "metadata": {
        "id": "EVmdpU3wLyjJ"
      },
      "source": [
        "#VOICE RECOGNIZER ASSISTANT USING AI\n"
      ]
    },
    {
      "cell_type": "markdown",
      "metadata": {
        "id": "JwiEG_mwWzk2"
      },
      "source": [
        "First install all the libraries using pip install."
      ]
    },
    {
      "cell_type": "code",
      "metadata": {
        "colab": {
          "base_uri": "https://localhost:8080/"
        },
        "id": "-newuDHsQsai",
        "outputId": "766dcf50-4f05-4738-ff0a-d1df5a542eb7"
      },
      "source": [
        "from google.colab import drive\n",
        "drive.mount('/content/drive')"
      ],
      "execution_count": 1,
      "outputs": [
        {
          "output_type": "stream",
          "text": [
            "Drive already mounted at /content/drive; to attempt to forcibly remount, call drive.mount(\"/content/drive\", force_remount=True).\n"
          ],
          "name": "stdout"
        }
      ]
    },
    {
      "cell_type": "code",
      "metadata": {
        "id": "KkEFuhQMFc3v"
      },
      "source": [
        "!pip install pyttsx3\n",
        "!pip install SpeechRecognition \n",
        "!pip install wikipedia\n",
        "!pip install selenium \n",
        "!pip install pyautogui\n",
        "!pip install psutil\n",
        "!pip install pyjokes\n",
        "!pip instal mutagen "
      ],
      "execution_count": null,
      "outputs": []
    },
    {
      "cell_type": "markdown",
      "metadata": {
        "id": "b_u5qcS4MhFu"
      },
      "source": [
        "\n",
        "*   import pyttsx3 : pyttsx3 is a text-to-speech conversion library in Python \n",
        "\n",
        "*   import datetime : The datetime module supplies classes for manipulating dates and times.  \n",
        "\n",
        "*   import speech_recognition as sr : Library for performing speech recognition with the Google Speech Recognition API.\n",
        "\n",
        "*   import wikipedia : Library to extract data from Wikipedia, which wraps the official Wikipedia API.\n",
        "\n",
        "*   import smtplib : This module defines an SMTP client session object that can be used to send mail to any Internet machine with an SMTP or ESMTP listener daemon.\n",
        "\n",
        "*   import webbrowser as wb : The webbrowser module provides a high-level interface to allow displaying Web-based documents to users.\n",
        "\n",
        "\n",
        "*   import os : This module provides a portable way of using operating system dependent functionality.\n",
        "\n",
        "\n",
        "*   import psutil : This is a cross-platform library for retrieving information on running processes and system utilization (CPU, memory, disks, network, sensors).\n",
        "\n",
        "\n",
        "*   import pyjokes : This library provides ne line jokes for programmers.\n",
        "\n",
        "\n",
        "*   import requests : a simple, yet elegant, HTTP library which allows you to send HTTP/1.1 requests extremely easily.\n",
        "\n",
        "\n",
        "\n",
        "*   Mutagen : It is python module to handle handle audio metadata.\n",
        "\n"
      ]
    },
    {
      "cell_type": "markdown",
      "metadata": {
        "id": "8kbGJRA7csRu"
      },
      "source": [
        "```import pyautogui```"
      ]
    },
    {
      "cell_type": "code",
      "metadata": {
        "id": "Ng2u0kuAG3V2",
        "colab": {
          "base_uri": "https://localhost:8080/"
        },
        "outputId": "3313b518-ac59-421e-b196-faa7205182af"
      },
      "source": [
        "import pyttsx3  \n",
        "import datetime\n",
        "import speech_recognition as sr\n",
        "import wikipedia\n",
        "import smtplib\n",
        "import webbrowser as wb\n",
        "import os\n",
        "import psutil\n",
        "import pyjokes\n",
        "from mutagen.mp3 import MP3\n",
        "import time\n",
        "!sudo apt-get install python.espeak"
      ],
      "execution_count": null,
      "outputs": [
        {
          "output_type": "stream",
          "text": [
            "Reading package lists... Done\n",
            "Building dependency tree       \n",
            "Reading state information... Done\n",
            "Note, selecting 'python-espeak' for regex 'python.espeak'\n",
            "python-espeak is already the newest version (0.5-1build5).\n",
            "0 upgraded, 0 newly installed, 0 to remove and 40 not upgraded.\n"
          ],
          "name": "stdout"
        }
      ]
    },
    {
      "cell_type": "markdown",
      "metadata": {
        "id": "MR3N3Bc7kpdr"
      },
      "source": [
        "## Now we define an engine...\n",
        "#### This will basically create and design the properties and characteristics of our JARVIS AI assitant."
      ]
    },
    {
      "cell_type": "code",
      "metadata": {
        "id": "hdLShSoTG3g-"
      },
      "source": [
        "machine = pyttsx3.init() #Provides application access to text-to-speech synthesis.\n",
        "voices = machine.getProperty('voices') #getpropertty : Gets the current value of an machine property and voices:List of pyttsx3.voice.Voice descriptor objects.\n",
        "machine.setProperty('voice', voices[1].id) #voice[0] is a male one, and voice[1] is a female one, but on another PC, there can be more voices, they can be both male/female etc.\n",
        "newVoiceRate = 190  #Integer speech rate in words per minute. Defaults to 200 word per minute.\n",
        "machine.setProperty('rate',newVoiceRate) #Queues a command to set an engine property. The new property value affects all utterances queued after this command."
      ],
      "execution_count": null,
      "outputs": []
    },
    {
      "cell_type": "markdown",
      "metadata": {
        "id": "tNOOa639t8RO"
      },
      "source": [
        "Speak function"
      ]
    },
    {
      "cell_type": "code",
      "metadata": {
        "id": "9XQbdH30t7Kb"
      },
      "source": [
        "def speak(audio):\n",
        "    machine.say(audio) \n",
        "    machine.runAndWait() #This function will make the speech audible in the system"
      ],
      "execution_count": null,
      "outputs": []
    },
    {
      "cell_type": "markdown",
      "metadata": {
        "id": "lkeHH7vQxZCf"
      },
      "source": [
        "Time function"
      ]
    },
    {
      "cell_type": "code",
      "metadata": {
        "id": "Dh3TChjsusQ_"
      },
      "source": [
        "def Time():\n",
        "    Time = datetime.datetime.now().strftime(\"%I:%M:%S\") #time in hour:minute:second\n",
        "    speak(Time) "
      ],
      "execution_count": null,
      "outputs": []
    },
    {
      "cell_type": "markdown",
      "metadata": {
        "id": "rgS40LitxjW1"
      },
      "source": [
        "Date function"
      ]
    },
    {
      "cell_type": "code",
      "metadata": {
        "id": "FRGIVsBwu0KV"
      },
      "source": [
        "def date():\n",
        "    year = str(datetime.datetime.now().year) # get current year and convert to string to pass the speak function\n",
        "    month = str(datetime.datetime.now().month) # get current and convert to string to pass the speak function\n",
        "    day = str(datetime.datetime.now().day) # get current day and convert to string to pass the speak function\n",
        "    speak(\"The current date is\")  # say date month year\n",
        "    speak(day)\n",
        "    speak(month)\n",
        "    speak(year)"
      ],
      "execution_count": null,
      "outputs": []
    },
    {
      "cell_type": "markdown",
      "metadata": {
        "id": "UrVP8E_kxmwO"
      },
      "source": [
        "Wishme function"
      ]
    },
    {
      "cell_type": "code",
      "metadata": {
        "id": "ngeTTZXIvfHi"
      },
      "source": [
        "def wishme():\n",
        "  speak(\"Welcome ma'am!\") \n",
        "  speak(\"The current time is\")\n",
        "  Time() #Call the time function and spak the current time\n",
        "  speak(\"The current date is \")\n",
        "  date() #Call the time function and spak the current time\n",
        "  hour = datetime.datetime.now().hour\n",
        "  if hour >= 6 and hour<12:\n",
        "    speak(\"Good morning ma'am! \")\n",
        "  elif hour >=12 and hour<18:\n",
        "    speak(\"Good afternoon ma'am!\")\n",
        "  elif hour >=18 and hour<24:\n",
        "    speak(\"Good Evening ma'am!\")\n",
        "  else:\n",
        "    speak(\"Good night!\")\n",
        "  speak(\"Jarvis at your servive. Please tell me how can i help you!\")"
      ],
      "execution_count": null,
      "outputs": []
    },
    {
      "cell_type": "markdown",
      "metadata": {
        "id": "J3KG1EYAxpRy"
      },
      "source": [
        "Takecommand function"
      ]
    },
    {
      "cell_type": "code",
      "metadata": {
        "id": "QzmFWz7pvhVM"
      },
      "source": [
        "\"\"\"Recognizes the audio and sends it for display to displayText.\"\"\"\n",
        "def takeCommand():\n",
        "    r = sr.Recognizer() #Speech recognition\n",
        "    with sr.Microphone() as source:\n",
        "        print(\"listening....\")\n",
        "        r.pause_threshold = 1\n",
        "        audio = r.listen(source)\n",
        "\n",
        "    try:\n",
        "        print(\"Recognising...\")\n",
        "        query = r.recognize_google(audio, language='en-in') #recognize the language is indian english or not if yes then store in query language.\n",
        "        print(query)\n",
        "\n",
        "    except Exception as e:\n",
        "        print(e)\n",
        "        speak(\"pardon please...\") # If not please repeat and return the function.\n",
        "        return \"None\"\n",
        "\n",
        "    return query"
      ],
      "execution_count": null,
      "outputs": []
    },
    {
      "cell_type": "markdown",
      "metadata": {
        "id": "2JHtH7Y7xrWF"
      },
      "source": [
        "Send mail function"
      ]
    },
    {
      "cell_type": "code",
      "metadata": {
        "id": "FrvazR4PvkLU"
      },
      "source": [
        "def sendEmail(to, content):\n",
        "    server = smtplib.SMTP(\"smtp.gmail.com\", 587) # creates a Simple Mail Transfer Protocol client session object\n",
        "    server.ehlo()\n",
        "    server.starttls() # start TLS for security\n",
        "    server.login(\"abc@gmail.com\", '123') # Authentication\n",
        "    server.sendmail(\"abc@gmail.com\", to, content) # send the mail\n",
        "    server.close() # terminating the session"
      ],
      "execution_count": null,
      "outputs": []
    },
    {
      "cell_type": "markdown",
      "metadata": {
        "id": "K3tbT2TfxukN"
      },
      "source": [
        "Take screenshot function"
      ]
    },
    {
      "cell_type": "code",
      "metadata": {
        "id": "tBJq5tTwvoT1"
      },
      "source": [
        "def screenshot():\n",
        "    img = pyautogui.screenshot() # PyAutoGUI can take screenshots, save them to files, and locate images within the screen ,Calling screenshot() will return an Image object.\n",
        "    img.save('/content/drive/MyDrive/Colab Notebooks/Jarvis project/ss.png')  # save the image"
      ],
      "execution_count": null,
      "outputs": []
    },
    {
      "cell_type": "markdown",
      "metadata": {
        "id": "Xh9v1mMvxP-X"
      },
      "source": [
        "Battery and Cpu performance function"
      ]
    },
    {
      "cell_type": "code",
      "metadata": {
        "id": "50ABegGtvwV7"
      },
      "source": [
        "# Get cpu statistics\n",
        "def cpu():\n",
        "    usage = str(psutil.cpu_percent()) #Return a float representing the current system-wide CPU utilization as a percentage and  then convert using implicit conversion to string.\n",
        "    speak(\"Cpu is at\" + usage)\n",
        "    battery = psutil.sensors_battery() #Return battery status information as a named tuple including the following values. If no battery is installed or metrics can’t be determined None is returned.\n",
        "    battery_p = str(battery.percent) #converion to string\n",
        "    speak(\"Battery is at \" + battery_p)"
      ],
      "execution_count": null,
      "outputs": []
    },
    {
      "cell_type": "markdown",
      "metadata": {
        "id": "UH8cLkFfxxC5"
      },
      "source": [
        "Joke reciting function"
      ]
    },
    {
      "cell_type": "code",
      "metadata": {
        "id": "WCNzOpINvysz"
      },
      "source": [
        "def jokes():\n",
        "    joke = pyjokes.get_joke() #this function is used to actually return a single joke from a certain category and in a particular language\n",
        "    print(joke)\n",
        "    speak(joke)"
      ],
      "execution_count": null,
      "outputs": []
    },
    {
      "cell_type": "markdown",
      "metadata": {
        "id": "nzqd_lcTyAx1"
      },
      "source": [
        "Function for playing song."
      ]
    },
    {
      "cell_type": "code",
      "metadata": {
        "id": "Rur47NNcv0V9"
      },
      "source": [
        "def playsongs():\n",
        "    songs_dir = \"/content/drive/MyDrive/Colab Notebooks/Jarvis project/Music\" # Locate the directory where songs are stored.\n",
        "    songs = os.listdir(songs_dir)    #Get the list of all the songs in the specified directory.\n",
        "    songname = takeCommand().lower() #Get the name of song which the user want to play.\n",
        "    length = 0                       #initialising length of song.\n",
        "    for i in songs:                  #Search the song to find a match in whole directory.\n",
        "      if songname in str(i.lower):\n",
        "        pathname = os.path.join(songs_dir, i)  #  Join one or more path components intelligently (common pathname manipulation), then start playing the first song in the directory.\n",
        "        audio = MP3(pathname)                  #Typecast song from String to Mp3\n",
        "        length = int(audio.info.length)        #length of song\n",
        "        os.startfile(pathname)                 #Funtion to play the song\n",
        "    return length \n"
      ],
      "execution_count": null,
      "outputs": []
    },
    {
      "cell_type": "markdown",
      "metadata": {
        "id": "FIoW-koVyHnc"
      },
      "source": [
        "Function for remembering note"
      ]
    },
    {
      "cell_type": "code",
      "metadata": {
        "id": "4VZN4wJgv3R2"
      },
      "source": [
        "def remember():\n",
        "    speak('What you want me to remember?')\n",
        "    data = takeCommand()# Store the given note string in data variable.\n",
        "    remember = open('/content/drive/MyDrive/Colab Notebooks/Jarvis project/data.txt','w')# Create a new file\n",
        "    remember.write(data) # Write the note in the newly creted file.\n",
        "    remember.close()\n",
        "    speak(\"you said me to remember that\"+ data)\n"
      ],
      "execution_count": null,
      "outputs": []
    },
    {
      "cell_type": "markdown",
      "metadata": {
        "id": "4QqNBC36DA22"
      },
      "source": [
        "Function for reminding saved note."
      ]
    },
    {
      "cell_type": "code",
      "metadata": {
        "id": "SOlLH1WCCz9c"
      },
      "source": [
        "def savednote():\n",
        "  remember =open('/content/drive/MyDrive/Colab Notebooks/data.txt','r') # Open the note file in read mode\n",
        "  speak(\"you said me to remember that\" +remember.read())"
      ],
      "execution_count": null,
      "outputs": []
    },
    {
      "cell_type": "markdown",
      "metadata": {
        "id": "k-qFSqhSyZWd"
      },
      "source": [
        "Function for searching in chrome "
      ]
    },
    {
      "cell_type": "code",
      "metadata": {
        "id": "qQk9fXRPv4HC"
      },
      "source": [
        "def chrome():\n",
        "    speak(\"What do you want to search?\")\n",
        "    chromepath = \"/content/drive/MyDrive/Colab Notebooks/Jarvis project/chrome/chrome.exe %s\" # Locate the chrome applicatio.\n",
        "    search = takeCommand().lower()\n",
        "    wb.get(chromepath).open_new_tab(search + \".com\") # Search the vpice input and open the result in a new tab."
      ],
      "execution_count": null,
      "outputs": []
    },
    {
      "cell_type": "markdown",
      "metadata": {
        "id": "aRQ8HI36yhO-"
      },
      "source": [
        "#Main function "
      ]
    },
    {
      "cell_type": "code",
      "metadata": {
        "id": "V15my9TblvfQ"
      },
      "source": [
        "#@title\n",
        "if __name__ == \"__main__\":\n",
        "  wishme()\n",
        "  while True:                                           # Take and run voice commands until user manually order the AI assistant to STOP.\n",
        "      query = takeCommand().lower()                     # Listen the user voice speech and store it in string format in lower case. \n",
        "\n",
        "      if 'Time' in query:\n",
        "          Time()\n",
        "      elif 'date' in query:\n",
        "          date()\n",
        "      elif 'wikipedia' in query:\n",
        "          speak(\"Searching...\")\n",
        "          query = query.replace(\"wikipeida\",\"\")\n",
        "          result = wikipedia.summary(query,sentences=2)  # Finding result for the search and sentences = 5 refers to numbers of lines.\n",
        "          print(result)\n",
        "          speak(result)\n",
        "\n",
        "      elif 'send email' in query:\n",
        "          try:\n",
        "              speak(\"what should i say!\")\n",
        "              content = takeCommand()\n",
        "              to = 'xyz@gmail.com'\n",
        "              sendmail(to,content)                        # Call the sendEmail function.\n",
        "              speak(\"hello, this mail is sent by ai assitant ,mail sent!!\")\n",
        "          except Exception as e:\n",
        "              print (e)\n",
        "              speak(\"Unable to sent the mail..\")\n",
        "\n",
        "      elif 'search in chrome' in query:\n",
        "          chrome()\n",
        "\n",
        "      elif 'logout' in query:\n",
        "          os.system(\"shutdown - l\")\n",
        "\n",
        "      elif 'shutdown' in query:\n",
        "          os.system(\"shutdown /s /t 1\")\n",
        "\n",
        "      elif 'restart' in query:\n",
        "          os.system(\"shutdown /r /t 1\")\n",
        "\n",
        "      elif 'play song' in query:\n",
        "          length = playsongs() #Storing the length of song in a variable\n",
        "          if length != 0:\n",
        "            time.sleep(length) #Jarvis will wait for next command until the song length\n",
        "          else:\n",
        "            speak(\"REQUESTED SONG NOT FOUND.\")\n",
        "\n",
        "      elif 'remember' in query:\n",
        "          remember()\n",
        "            \n",
        "      elif 'do you know anything' in query:\n",
        "          savednote()\n",
        "\n",
        "      elif 'screenshot' in query:\n",
        "          screenshot()\n",
        "          speak('Done!!')\n",
        "\n",
        "      elif 'joke' in query:\n",
        "          jokes()\n",
        "          speak(\"ha ha ha..\")\n",
        "\n",
        "      elif ('thank you' in query) or ('bye' in query) :\n",
        "          quit()                                             # Exit the while loop and the main function."
      ],
      "execution_count": null,
      "outputs": []
    }
  ]
}